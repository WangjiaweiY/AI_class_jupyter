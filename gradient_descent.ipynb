{
 "cells": [
  {
   "cell_type": "code",
   "execution_count": 1,
   "metadata": {},
   "outputs": [
    {
     "data": {
      "application/vnd.jupyter.widget-view+json": {
       "model_id": "5e378064c5484d2c8053974573f90ba9",
       "version_major": 2,
       "version_minor": 0
      },
      "text/plain": [
       "interactive(children=(FloatSlider(value=0.1, description='learning_rate', max=1.0, min=0.01, step=0.01), IntSl…"
      ]
     },
     "metadata": {},
     "output_type": "display_data"
    }
   ],
   "source": [
    "import numpy as np\n",
    "import matplotlib.pyplot as plt\n",
    "from ipywidgets import interact, FloatSlider, IntSlider\n",
    "\n",
    "def gradient_descent_demo(learning_rate=0.1, iterations=10):\n",
    "    # 定义目标函数 f(x) = (x-3)^2，最小值为 x=3\n",
    "    x = 0  # 初始化 x\n",
    "    xs = [x]\n",
    "    for i in range(iterations):\n",
    "        grad = 2 * (x - 3)\n",
    "        x = x - learning_rate * grad\n",
    "        xs.append(x)\n",
    "    \n",
    "    x_vals = np.linspace(-1, 6, 400)\n",
    "    y_vals = (x_vals - 3)**2\n",
    "    \n",
    "    plt.figure(figsize=(8, 5))\n",
    "    plt.plot(x_vals, y_vals, label='f(x) = (x-3)^2')\n",
    "    plt.scatter(xs, [(xi - 3)**2 for xi in xs], color='red', label='梯度下降步骤')\n",
    "    plt.plot(xs, [(xi - 3)**2 for xi in xs], color='red', linestyle='--', marker='o')\n",
    "    plt.xlabel(\"x\")\n",
    "    plt.ylabel(\"f(x)\")\n",
    "    plt.title(\"交互式梯度下降示例\\n学习率: {}  迭代次数: {}\".format(learning_rate, iterations))\n",
    "    plt.legend()\n",
    "    plt.show()\n",
    "\n",
    "interact(gradient_descent_demo, \n",
    "         learning_rate=FloatSlider(min=0.01, max=1.0, step=0.01, value=0.1), \n",
    "         iterations=IntSlider(min=5, max=50, step=1, value=10));\n"
   ]
  },
  {
   "cell_type": "code",
   "execution_count": null,
   "metadata": {},
   "outputs": [],
   "source": []
  }
 ],
 "metadata": {
  "kernelspec": {
   "display_name": "Python 3",
   "language": "python",
   "name": "python3"
  },
  "language_info": {
   "codemirror_mode": {
    "name": "ipython",
    "version": 3
   },
   "file_extension": ".py",
   "mimetype": "text/x-python",
   "name": "python",
   "nbconvert_exporter": "python",
   "pygments_lexer": "ipython3",
   "version": "3.7.0"
  }
 },
 "nbformat": 4,
 "nbformat_minor": 2
}
