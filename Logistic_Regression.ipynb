{
 "cells": [
  {
   "cell_type": "code",
   "execution_count": 1,
   "metadata": {},
   "outputs": [
    {
     "data": {
      "application/vnd.jupyter.widget-view+json": {
       "model_id": "d4f9626866794ce09a9cb848d5c4ec43",
       "version_major": 2,
       "version_minor": 0
      },
      "text/plain": [
       "interactive(children=(FloatLogSlider(value=1.0, description='C', max=3.0, min=-3.0), Output()), _dom_classes=(…"
      ]
     },
     "metadata": {},
     "output_type": "display_data"
    }
   ],
   "source": [
    "import numpy as np\n",
    "import matplotlib.pyplot as plt\n",
    "from sklearn.datasets import make_classification\n",
    "from sklearn.linear_model import LogisticRegression\n",
    "from ipywidgets import interact, FloatLogSlider\n",
    "\n",
    "def logistic_regression_demo(C=1.0):\n",
    "    # 生成二分类数据\n",
    "    X, y = make_classification(n_samples=200, n_features=2, n_redundant=0, \n",
    "                               n_informative=2, random_state=0, n_clusters_per_class=1)\n",
    "    # 使用 LogisticRegression 模型，参数 C 控制正则化强度\n",
    "    clf = LogisticRegression(C=C, solver='lbfgs')\n",
    "    clf.fit(X, y)\n",
    "    \n",
    "    # 绘制决策边界\n",
    "    x_min, x_max = X[:, 0].min() - 1, X[:, 0].max() + 1\n",
    "    y_min, y_max = X[:, 1].min() - 1, X[:, 1].max() + 1\n",
    "    xx, yy = np.meshgrid(np.linspace(x_min, x_max, 200), np.linspace(y_min, y_max, 200))\n",
    "    Z = clf.predict(np.c_[xx.ravel(), yy.ravel()])\n",
    "    Z = Z.reshape(xx.shape)\n",
    "    \n",
    "    plt.figure(figsize=(8,6))\n",
    "    plt.contourf(xx, yy, Z, alpha=0.2, levels=np.linspace(0, 1, 3), cmap='RdBu')\n",
    "    plt.scatter(X[:, 0], X[:, 1], c=y, edgecolors='k', cmap='RdBu')\n",
    "    plt.title(\"交互式 Logistic Regression 示例 (C = {})\".format(C))\n",
    "    plt.xlabel(\"特征1\")\n",
    "    plt.ylabel(\"特征2\")\n",
    "    plt.show()\n",
    "\n",
    "interact(logistic_regression_demo, C=FloatLogSlider(min=-3, max=3, step=0.1, value=1.0));\n"
   ]
  },
  {
   "cell_type": "code",
   "execution_count": null,
   "metadata": {},
   "outputs": [],
   "source": []
  }
 ],
 "metadata": {
  "kernelspec": {
   "display_name": "Python 3",
   "language": "python",
   "name": "python3"
  },
  "language_info": {
   "codemirror_mode": {
    "name": "ipython",
    "version": 3
   },
   "file_extension": ".py",
   "mimetype": "text/x-python",
   "name": "python",
   "nbconvert_exporter": "python",
   "pygments_lexer": "ipython3",
   "version": "3.7.0"
  }
 },
 "nbformat": 4,
 "nbformat_minor": 2
}
