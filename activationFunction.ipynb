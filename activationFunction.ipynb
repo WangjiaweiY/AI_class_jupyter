{
 "cells": [
  {
   "cell_type": "code",
   "execution_count": 1,
   "metadata": {},
   "outputs": [
    {
     "data": {
      "application/vnd.jupyter.widget-view+json": {
       "model_id": "c304e21585bf49e9a0154438f873b94d",
       "version_major": 2,
       "version_minor": 0
      },
      "text/plain": [
       "interactive(children=(Dropdown(description='func_type', options=('sigmoid', 'tanh', 'relu'), value='sigmoid'),…"
      ]
     },
     "metadata": {},
     "output_type": "display_data"
    }
   ],
   "source": [
    "import numpy as np\n",
    "import matplotlib.pyplot as plt\n",
    "from ipywidgets import interact, Dropdown\n",
    "\n",
    "def activation_function_demo(func_type=\"sigmoid\"):\n",
    "    x = np.linspace(-10, 10, 400)\n",
    "    if func_type == \"sigmoid\":\n",
    "        y = 1 / (1 + np.exp(-x))\n",
    "    elif func_type == \"tanh\":\n",
    "        y = np.tanh(x)\n",
    "    elif func_type == \"relu\":\n",
    "        y = np.maximum(0, x)\n",
    "    else:\n",
    "        y = x\n",
    "    plt.figure(figsize=(8, 5))\n",
    "    plt.plot(x, y, linewidth=2)\n",
    "    plt.title(\"激活函数展示：{}\".format(func_type))\n",
    "    plt.xlabel(\"输入\")\n",
    "    plt.ylabel(\"输出\")\n",
    "    plt.grid(True)\n",
    "    plt.show()\n",
    "\n",
    "interact(activation_function_demo, func_type=Dropdown(options=[\"sigmoid\", \"tanh\", \"relu\"]));\n"
   ]
  },
  {
   "cell_type": "code",
   "execution_count": null,
   "metadata": {},
   "outputs": [],
   "source": []
  }
 ],
 "metadata": {
  "kernelspec": {
   "display_name": "Python 3",
   "language": "python",
   "name": "python3"
  },
  "language_info": {
   "codemirror_mode": {
    "name": "ipython",
    "version": 3
   },
   "file_extension": ".py",
   "mimetype": "text/x-python",
   "name": "python",
   "nbconvert_exporter": "python",
   "pygments_lexer": "ipython3",
   "version": "3.7.0"
  }
 },
 "nbformat": 4,
 "nbformat_minor": 2
}
