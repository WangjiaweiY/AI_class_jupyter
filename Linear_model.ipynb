{
 "cells": [
  {
   "cell_type": "code",
   "execution_count": null,
   "metadata": {},
   "outputs": [],
   "source": [
    "import numpy as np\n",
    "import matplotlib.pyplot as plt\n",
    "from ipywidgets import interact, FloatSlider\n",
    "\n",
    "def linear_regression_demo(slope=1.0, intercept=0.0, noise=0.5):\n",
    "    np.random.seed(0)\n",
    "    x = np.linspace(0, 10, 50)\n",
    "    # 添加噪声生成 y 值\n",
    "    y = slope * x + intercept + np.random.normal(0, noise, size=x.shape)\n",
    "    \n",
    "    plt.figure(figsize=(8, 5))\n",
    "    plt.scatter(x, y, label=\"数据点\")\n",
    "    plt.plot(x, slope * x + intercept, color='red', label=\"拟合直线\")\n",
    "    plt.xlabel(\"x\")\n",
    "    plt.ylabel(\"y\")\n",
    "    plt.title(\"交互式线性回归示例\")\n",
    "    plt.legend()\n",
    "    plt.show()\n",
    "\n",
    "# 使用 interact 创建交互控件\n",
    "interact(linear_regression_demo, \n",
    "         slope=FloatSlider(min=-5, max=5, step=0.1, value=1.0), \n",
    "         intercept=FloatSlider(min=-5, max=5, step=0.1, value=0.0),\n",
    "         noise=FloatSlider(min=0, max=5, step=0.1, value=0.5));\n"
   ]
  }
 ],
 "metadata": {
  "kernelspec": {
   "display_name": "Python 3",
   "language": "python",
   "name": "python3"
  },
  "language_info": {
   "codemirror_mode": {
    "name": "ipython",
    "version": 3
   },
   "file_extension": ".py",
   "mimetype": "text/x-python",
   "name": "python",
   "nbconvert_exporter": "python",
   "pygments_lexer": "ipython3",
   "version": "3.7.0"
  }
 },
 "nbformat": 4,
 "nbformat_minor": 2
}
